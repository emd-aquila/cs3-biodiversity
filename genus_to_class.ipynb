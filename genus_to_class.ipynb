{
  "cells": [
    {
      "cell_type": "markdown",
      "id": "d9e16aaf",
      "metadata": {
        "id": "d9e16aaf"
      },
      "source": [
        "# Genus/Species to Class Converter\n",
        "This notebook contains code to convert the genus/species listing from the BioTIME-DB to taxonomic class using Biopython."
      ]
    },
    {
      "cell_type": "code",
      "source": [
        "!pip install biopython tqdm\n",
        "\n",
        "import pandas as pd\n",
        "from Bio import Entrez\n",
        "import time\n",
        "import math\n",
        "from tqdm import tqdm\n",
        "\n",
        "# API details\n",
        "Entrez.email = \"emduggan@mit.edu\"\n",
        "Entrez.api_key = \"2e5155aba559345711a3af676cb6c6703608\"\n",
        "! wget https://raw.githubusercontent.com/emd-aquila/cs3-biodiversity/main/data/unique_genus_species.csv -O myfile.csv\n",
        "df_all = pd.read_csv(\"myfile.csv\")"
      ],
      "metadata": {
        "colab": {
          "base_uri": "https://localhost:8080/"
        },
        "id": "kBDJ-NrRXViX",
        "outputId": "594bcee2-9f41-4131-92bf-775b57894d43"
      },
      "id": "kBDJ-NrRXViX",
      "execution_count": 73,
      "outputs": [
        {
          "output_type": "stream",
          "name": "stdout",
          "text": [
            "Requirement already satisfied: biopython in /usr/local/lib/python3.11/dist-packages (1.85)\n",
            "Requirement already satisfied: tqdm in /usr/local/lib/python3.11/dist-packages (4.67.1)\n",
            "Requirement already satisfied: numpy in /usr/local/lib/python3.11/dist-packages (from biopython) (2.0.2)\n",
            "--2025-05-07 19:18:32--  https://raw.githubusercontent.com/emd-aquila/cs3-biodiversity/main/data/unique_genus_species.csv\n",
            "Resolving raw.githubusercontent.com (raw.githubusercontent.com)... 185.199.108.133, 185.199.109.133, 185.199.110.133, ...\n",
            "Connecting to raw.githubusercontent.com (raw.githubusercontent.com)|185.199.108.133|:443... connected.\n",
            "HTTP request sent, awaiting response... 200 OK\n",
            "Length: 1185895 (1.1M) [text/plain]\n",
            "Saving to: ‘myfile.csv’\n",
            "\n",
            "myfile.csv          100%[===================>]   1.13M  --.-KB/s    in 0.06s   \n",
            "\n",
            "2025-05-07 19:18:32 (18.1 MB/s) - ‘myfile.csv’ saved [1185895/1185895]\n",
            "\n"
          ]
        }
      ]
    },
    {
      "cell_type": "code",
      "source": [
        "# Batching our data from CSV\n",
        "batch_size = 5000\n",
        "num_batches = math.ceil(len(df_all) / batch_size)\n",
        "\n",
        "# Save each batch\n",
        "for i in range(num_batches):\n",
        "    batch_df = df_all.iloc[i*batch_size : (i+1)*batch_size]\n",
        "    batch_file = f\"species_batch_{i+1:03d}.csv\"\n",
        "    batch_df.to_csv(batch_file, index=False)\n",
        "    print(f\"Saved {batch_file}\")"
      ],
      "metadata": {
        "id": "0pMcM8pFerUS",
        "outputId": "d7a16d45-b534-49fc-8a43-0f86fb490f7e",
        "colab": {
          "base_uri": "https://localhost:8080/"
        }
      },
      "id": "0pMcM8pFerUS",
      "execution_count": 74,
      "outputs": [
        {
          "output_type": "stream",
          "name": "stdout",
          "text": [
            "Saved species_batch_001.csv\n",
            "Saved species_batch_002.csv\n",
            "Saved species_batch_003.csv\n",
            "Saved species_batch_004.csv\n",
            "Saved species_batch_005.csv\n",
            "Saved species_batch_006.csv\n",
            "Saved species_batch_007.csv\n",
            "Saved species_batch_008.csv\n",
            "Saved species_batch_009.csv\n"
          ]
        }
      ]
    },
    {
      "cell_type": "code",
      "source": [
        "# Specify which batch file we are currently working with, load, and cache\n",
        "batch_filename = \"species_batch_001.csv\"\n",
        "\n",
        "# Cache files\n",
        "taxid_cache_file = batch_filename.replace(\".csv\", \"_taxid_cache.csv\")\n",
        "class_cache_file = batch_filename.replace(\".csv\", \"_class_cache.csv\")\n",
        "\n",
        "# Load batch\n",
        "df = pd.read_csv(batch_filename)\n",
        "species_names = df[\"GENUS_SPECIES\"].dropna().unique()\n",
        "print(f\"Loaded {len(species_names)} species from {batch_filename}\")"
      ],
      "metadata": {
        "id": "Mg_ajVjNfz6Z",
        "outputId": "e50e7622-56a1-474e-99e2-c1090c755617",
        "colab": {
          "base_uri": "https://localhost:8080/"
        }
      },
      "id": "Mg_ajVjNfz6Z",
      "execution_count": 78,
      "outputs": [
        {
          "output_type": "stream",
          "name": "stdout",
          "text": [
            "Loaded 5000 species from species_batch_001.csv\n"
          ]
        }
      ]
    },
    {
      "cell_type": "code",
      "source": [
        "# Load Existing TaxID cache if available\n",
        "if pd.io.common.file_exists(taxid_cache_file):\n",
        "    taxid_df = pd.read_csv(taxid_cache_file)\n",
        "    species_to_taxid = dict(zip(taxid_df[\"GENUS_SPECIES\"], taxid_df[\"taxid\"].astype(str)))\n",
        "    print(f\"🔄 Loaded {len(species_to_taxid)} TaxIDs from cache.\")\n",
        "else:\n",
        "    species_to_taxid = {}\n",
        "\n",
        "# Load Class cache if exists\n",
        "if pd.io.common.file_exists(class_cache_file):\n",
        "    class_df = pd.read_csv(class_cache_file)\n",
        "    tax_class_dict = dict(zip(class_df[\"GENUS_SPECIES\"], class_df[\"taxonomic_class\"]))\n",
        "    print(f\"🔄 Loaded {len(tax_class_dict)} classes from cache.\")\n",
        "else:\n",
        "    tax_class_dict = {}\n",
        "\n",
        "print(tax_class_dict)"
      ],
      "metadata": {
        "id": "hZ7y371MLTCj",
        "outputId": "b3e8440b-0285-4b11-9af0-3d9581733da2",
        "colab": {
          "base_uri": "https://localhost:8080/"
        }
      },
      "id": "hZ7y371MLTCj",
      "execution_count": 77,
      "outputs": [
        {
          "output_type": "stream",
          "name": "stdout",
          "text": [
            "{}\n"
          ]
        }
      ]
    }
  ],
  "metadata": {
    "language_info": {
      "name": "python"
    },
    "colab": {
      "provenance": []
    },
    "kernelspec": {
      "name": "python3",
      "display_name": "Python 3"
    }
  },
  "nbformat": 4,
  "nbformat_minor": 5
}