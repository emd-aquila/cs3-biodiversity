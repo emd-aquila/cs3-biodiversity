{
 "cells": [
  {
   "cell_type": "markdown",
   "id": "d9e16aaf",
   "metadata": {},
   "source": [
    "This notebook is a workbook to use Biopython to determine the class of the Genus_species entries from the BioTIME database."
   ]
  },
  {
   "cell_type": "markdown",
   "id": "4c32edf2",
   "metadata": {},
   "source": []
  }
 ],
 "metadata": {
  "language_info": {
   "name": "python"
  }
 },
 "nbformat": 4,
 "nbformat_minor": 5
}
