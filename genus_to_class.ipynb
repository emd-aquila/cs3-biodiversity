{
  "cells": [
    {
      "cell_type": "markdown",
      "id": "d9e16aaf",
      "metadata": {
        "id": "d9e16aaf"
      },
      "source": [
        "# Genus/Species to Class Converter\n",
        "This notebook contains code to convert the genus/species listing from the BioTIME-DB to taxonomic class using Biopython."
      ]
    },
    {
      "cell_type": "code",
      "source": [
        "!pip install biopython tqdm\n",
        "\n",
        "import pandas as pd\n",
        "from Bio import Entrez\n",
        "from tqdm import tqdm\n",
        "import time\n",
        "import os\n",
        "import math\n",
        "from google.colab import files\n",
        "import glob"
      ],
      "metadata": {
        "colab": {
          "base_uri": "https://localhost:8080/"
        },
        "id": "kBDJ-NrRXViX",
        "outputId": "2926d5e6-3b5a-46c1-ad68-d85ff8a530e5"
      },
      "id": "kBDJ-NrRXViX",
      "execution_count": 42,
      "outputs": [
        {
          "output_type": "stream",
          "name": "stdout",
          "text": [
            "Requirement already satisfied: biopython in /usr/local/lib/python3.11/dist-packages (1.85)\n",
            "Requirement already satisfied: tqdm in /usr/local/lib/python3.11/dist-packages (4.67.1)\n",
            "Requirement already satisfied: numpy in /usr/local/lib/python3.11/dist-packages (from biopython) (2.0.2)\n"
          ]
        }
      ]
    },
    {
      "cell_type": "code",
      "source": [
        "Entrez.email = \"emduggan@mit.edu\"\n",
        "Entrez.api_key = \"2e5155aba559345711a3af676cb6c6703608\"\n",
        "\n",
        "# Accessing CSV from Github\n",
        "! wget https://raw.githubusercontent.com/emd-aquila/cs3-biodiversity/main/data/unique_genus_species.csv -O myfile.csv\n",
        "df_all = pd.read_csv(\"myfile.csv\")"
      ],
      "metadata": {
        "colab": {
          "base_uri": "https://localhost:8080/"
        },
        "id": "ZF_hOpqqXZzO",
        "outputId": "9522c464-db0a-414b-c3c3-5e40d56fc5c9"
      },
      "id": "ZF_hOpqqXZzO",
      "execution_count": 45,
      "outputs": [
        {
          "output_type": "stream",
          "name": "stdout",
          "text": [
            "--2025-05-07 17:24:47--  https://raw.githubusercontent.com/emd-aquila/cs3-biodiversity/main/data/unique_genus_species.csv\n",
            "Resolving raw.githubusercontent.com (raw.githubusercontent.com)... 185.199.111.133, 185.199.108.133, 185.199.110.133, ...\n",
            "Connecting to raw.githubusercontent.com (raw.githubusercontent.com)|185.199.111.133|:443... connected.\n",
            "HTTP request sent, awaiting response... 200 OK\n",
            "Length: 1185895 (1.1M) [text/plain]\n",
            "Saving to: ‘myfile.csv’\n",
            "\n",
            "myfile.csv          100%[===================>]   1.13M  --.-KB/s    in 0.06s   \n",
            "\n",
            "2025-05-07 17:24:47 (18.1 MB/s) - ‘myfile.csv’ saved [1185895/1185895]\n",
            "\n"
          ]
        }
      ]
    },
    {
      "cell_type": "code",
      "source": [
        "# Batching genus_species file\n",
        "batch_size = 10000\n",
        "num_batches = math.ceil(len(df_all) / batch_size)\n",
        "\n",
        "# Save each batch\n",
        "for i in range(num_batches):\n",
        "    batch_df = df_all.iloc[i*batch_size : (i+1)*batch_size]\n",
        "    batch_file = f\"species_batch_{i+1:03d}.csv\"\n",
        "    batch_df.to_csv(batch_file, index=False)\n",
        "    print(f\"Saved {batch_file}\")"
      ],
      "metadata": {
        "id": "0pMcM8pFerUS",
        "outputId": "7b9c8d10-900e-4da0-eeb4-d4e07818d9e9",
        "colab": {
          "base_uri": "https://localhost:8080/"
        }
      },
      "id": "0pMcM8pFerUS",
      "execution_count": 47,
      "outputs": [
        {
          "output_type": "stream",
          "name": "stdout",
          "text": [
            "Saved species_batch_001.csv\n",
            "Saved species_batch_002.csv\n",
            "Saved species_batch_003.csv\n",
            "Saved species_batch_004.csv\n",
            "Saved species_batch_005.csv\n"
          ]
        }
      ]
    },
    {
      "cell_type": "code",
      "source": [
        "#Specify which batch file we are currently working with, load, and cache\n",
        "batch_filename = \"species_batch_001.csv\"\n",
        "\n",
        "df_batch = pd.read_csv(batch_filename)\n",
        "species_names = df_batch[\"GENUS_SPECIES\"].dropna().unique()\n",
        "\n",
        "taxid_cache_file = f\"{batch_filename.replace('.csv', '')}_taxid_cache.csv\"\n",
        "class_cache_file = f\"{batch_filename.replace('.csv', '')}_class_cache.csv\""
      ],
      "metadata": {
        "id": "Mg_ajVjNfz6Z"
      },
      "id": "Mg_ajVjNfz6Z",
      "execution_count": 48,
      "outputs": []
    },
    {
      "cell_type": "code",
      "source": [
        "# Load existing TaxID cache if available\n",
        "if os.path.exists(taxid_cache_file):\n",
        "    taxid_df = pd.read_csv(taxid_cache_file)\n",
        "    species_to_taxid = dict(zip(taxid_df[\"GENUS_SPECIES\"], taxid_df[\"taxid\"].astype(str)))\n",
        "    print(f\"Loaded {len(species_to_taxid)} TaxIDs from cache.\")\n",
        "else:\n",
        "    species_to_taxid = {}\n",
        "    print(\"No existing TaxID cache found.\")\n",
        "\n",
        "# Load existing class cache if available\n",
        "if os.path.exists(class_cache_file):\n",
        "    class_df = pd.read_csv(class_cache_file)\n",
        "    tax_class_dict = dict(zip(class_df[\"GENUS_SPECIES\"], class_df[\"taxonomic_class\"]))\n",
        "    print(f\"Loaded {len(tax_class_dict)} classes from cache.\")\n",
        "else:\n",
        "    tax_class_dict = {}\n",
        "    print(\"No existing class cache found.\")\n",
        "\n",
        "# Find species not yet processed (TaxIDs)\n",
        "to_query = [name for name in species_names if name not in species_to_taxid]\n",
        "print(f\"{len(to_query)} species left to fetch TaxIDs.\")\n",
        "\n",
        "\n",
        "\n",
        "# STEP 1: Fetch TaxIDs (in batches, with cache)\n",
        "batch_size = 100\n",
        "for i in tqdm(range(0, len(to_query), batch_size), desc=\"Fetching TaxIDs\"):\n",
        "    batch = to_query[i:i + batch_size]\n",
        "    for name in batch:\n",
        "        if name in species_to_taxid:\n",
        "            continue  # already done\n",
        "        try:\n",
        "            search = Entrez.esearch(db=\"taxonomy\", term=name, retmode=\"xml\")\n",
        "            result = Entrez.read(search)\n",
        "            if result[\"IdList\"]:\n",
        "                species_to_taxid[name] = result[\"IdList\"][0]\n",
        "            else:\n",
        "                species_to_taxid[name] = None\n",
        "        except Exception as e:\n",
        "            print(f\"Error fetching TaxID for {name}: {e}\")\n",
        "            species_to_taxid[name] = None\n",
        "        time.sleep(0.1)  # respect NCBI rate limit\n",
        "\n",
        "    # Save TaxID cache after each batch\n",
        "    pd.DataFrame([\n",
        "        {\"GENUS_SPECIES\": k, \"taxid\": v} for k, v in species_to_taxid.items()\n",
        "    ]).to_csv(taxid_cache_file, index=False)\n",
        "    print(f\"Saved TaxID cache ({len(species_to_taxid)} total so far)\")\n",
        "\n",
        "# Prepare TaxID -> species mapping\n",
        "taxid_to_species = {v: k for k, v in species_to_taxid.items() if v is not None}\n",
        "taxids = list(taxid_to_species.keys())\n",
        "\n",
        "# Find TaxIDs that still need classification\n",
        "already_classified = set(class_df[\"GENUS_SPECIES\"]) if os.path.exists(class_cache_file) else set()\n",
        "taxids_to_fetch = [tid for tid in taxids if taxid_to_species[tid] not in already_classified]\n",
        "print(f\"🔎 {len(taxids_to_fetch)} species left to fetch classes.\")\n",
        "\n",
        "\n",
        "\n",
        "\n",
        "# STEP 2: Fetch Classes (in batches, with cache)\n",
        "for i in tqdm(range(0, len(taxids_to_fetch), batch_size), desc=\"Fetching Classes\"):\n",
        "    batch = taxids_to_fetch[i:i + batch_size]\n",
        "    try:\n",
        "        fetch = Entrez.efetch(db=\"taxonomy\", id=\",\".join(batch), retmode=\"xml\")\n",
        "        records = Entrez.read(fetch)\n",
        "        for record in records:\n",
        "            lineage = record.get(\"LineageEx\", [])\n",
        "            class_name = next((r[\"ScientificName\"] for r in lineage if r[\"Rank\"] == \"class\"), None)\n",
        "            species_name = taxid_to_species.get(record[\"TaxId\"])\n",
        "            if species_name:\n",
        "                tax_class_dict[species_name] = class_name\n",
        "    except Exception as e:\n",
        "        print(f\"Error fetching class for batch {i}: {e}\")\n",
        "        for tid in batch:\n",
        "            species_name = taxid_to_species.get(tid)\n",
        "            tax_class_dict[species_name] = None\n",
        "    time.sleep(0.1)  # respect NCBI rate limit\n",
        "\n",
        "    # Save class cache after each batch\n",
        "    pd.DataFrame([\n",
        "        {\"GENUS_SPECIES\": k, \"taxonomic_class\": v} for k, v in tax_class_dict.items()\n",
        "    ]).to_csv(class_cache_file, index=False)\n",
        "    print(f\"💾 Saved class cache ({len(tax_class_dict)} total so far)\")\n",
        "\n",
        "# Final merge + save result for this batch\n",
        "class_df = pd.read_csv(class_cache_file)\n",
        "tax_class_dict = dict(zip(class_df[\"GENUS_SPECIES\"], class_df[\"taxonomic_class\"]))\n",
        "final_df = df_batch.copy()\n",
        "final_df[\"taxonomic_class\"] = final_df[\"GENUS_SPECIES\"].map(tax_class_dict)\n",
        "output_filename = batch_filename.replace(\".csv\", \"_with_class.csv\")\n",
        "final_df.to_csv(output_filename, index=False)\n",
        "print(f\"Final output saved as {output_filename}\")\n",
        "\n",
        "# Download result in Colab\n",
        "files.download(output_filename)"
      ],
      "metadata": {
        "colab": {
          "base_uri": "https://localhost:8080/",
          "height": 1000
        },
        "id": "lUrhTITgfrz-",
        "outputId": "e10a589a-7fe2-44bb-97dd-7f3a599b16cf",
        "collapsed": true
      },
      "id": "lUrhTITgfrz-",
      "execution_count": 31,
      "outputs": [
        {
          "metadata": {
            "tags": null
          },
          "name": "stdout",
          "output_type": "stream",
          "text": [
            "Loaded 1800 TaxIDs from cache.\n",
            "No existing class cache found.\n",
            "8200 species left to fetch TaxIDs.\n"
          ]
        },
        {
          "metadata": {
            "tags": null
          },
          "name": "stderr",
          "output_type": "stream",
          "text": [
            "Fetching TaxIDs:   1%|          | 1/82 [00:17<23:08, 17.15s/it]"
          ]
        },
        {
          "metadata": {
            "tags": null
          },
          "name": "stdout",
          "output_type": "stream",
          "text": [
            "Saved TaxID cache (1900 total so far)\n"
          ]
        },
        {
          "metadata": {
            "tags": null
          },
          "name": "stderr",
          "output_type": "stream",
          "text": [
            "\rFetching TaxIDs:   2%|▏         | 2/82 [00:34<23:22, 17.54s/it]"
          ]
        },
        {
          "metadata": {
            "tags": null
          },
          "name": "stdout",
          "output_type": "stream",
          "text": [
            "Saved TaxID cache (2000 total so far)\n"
          ]
        },
        {
          "metadata": {
            "tags": null
          },
          "name": "stderr",
          "output_type": "stream",
          "text": [
            "\rFetching TaxIDs:   4%|▎         | 3/82 [00:51<22:42, 17.24s/it]"
          ]
        },
        {
          "metadata": {
            "tags": null
          },
          "name": "stdout",
          "output_type": "stream",
          "text": [
            "Saved TaxID cache (2100 total so far)\n"
          ]
        },
        {
          "metadata": {
            "tags": null
          },
          "name": "stderr",
          "output_type": "stream",
          "text": [
            "\rFetching TaxIDs:   5%|▍         | 4/82 [01:11<23:43, 18.25s/it]"
          ]
        },
        {
          "metadata": {
            "tags": null
          },
          "name": "stdout",
          "output_type": "stream",
          "text": [
            "Saved TaxID cache (2200 total so far)\n"
          ]
        },
        {
          "metadata": {
            "tags": null
          },
          "name": "stderr",
          "output_type": "stream",
          "text": [
            "\rFetching TaxIDs:   6%|▌         | 5/82 [01:28<22:47, 17.77s/it]"
          ]
        },
        {
          "metadata": {
            "tags": null
          },
          "name": "stdout",
          "output_type": "stream",
          "text": [
            "Saved TaxID cache (2300 total so far)\n"
          ]
        },
        {
          "metadata": {
            "tags": null
          },
          "name": "stderr",
          "output_type": "stream",
          "text": [
            "\rFetching TaxIDs:   7%|▋         | 6/82 [01:46<22:29, 17.76s/it]"
          ]
        },
        {
          "metadata": {
            "tags": null
          },
          "name": "stdout",
          "output_type": "stream",
          "text": [
            "Saved TaxID cache (2400 total so far)\n"
          ]
        },
        {
          "metadata": {
            "tags": null
          },
          "name": "stderr",
          "output_type": "stream",
          "text": [
            "\rFetching TaxIDs:   9%|▊         | 7/82 [02:03<21:50, 17.47s/it]"
          ]
        },
        {
          "metadata": {
            "tags": null
          },
          "name": "stdout",
          "output_type": "stream",
          "text": [
            "Saved TaxID cache (2500 total so far)\n"
          ]
        },
        {
          "metadata": {
            "tags": null
          },
          "name": "stderr",
          "output_type": "stream",
          "text": [
            "\rFetching TaxIDs:  10%|▉         | 8/82 [02:19<21:06, 17.11s/it]"
          ]
        },
        {
          "metadata": {
            "tags": null
          },
          "name": "stdout",
          "output_type": "stream",
          "text": [
            "Saved TaxID cache (2600 total so far)\n"
          ]
        },
        {
          "metadata": {
            "tags": null
          },
          "name": "stderr",
          "output_type": "stream",
          "text": [
            "\rFetching TaxIDs:  11%|█         | 9/82 [02:37<21:01, 17.28s/it]"
          ]
        },
        {
          "metadata": {
            "tags": null
          },
          "name": "stdout",
          "output_type": "stream",
          "text": [
            "Saved TaxID cache (2700 total so far)\n"
          ]
        },
        {
          "metadata": {
            "tags": null
          },
          "name": "stderr",
          "output_type": "stream",
          "text": [
            "\rFetching TaxIDs:  12%|█▏        | 10/82 [02:53<20:29, 17.07s/it]"
          ]
        },
        {
          "metadata": {
            "tags": null
          },
          "name": "stdout",
          "output_type": "stream",
          "text": [
            "Saved TaxID cache (2800 total so far)\n"
          ]
        },
        {
          "metadata": {
            "tags": null
          },
          "name": "stderr",
          "output_type": "stream",
          "text": [
            "\rFetching TaxIDs:  13%|█▎        | 11/82 [03:10<20:11, 17.06s/it]"
          ]
        },
        {
          "metadata": {
            "tags": null
          },
          "name": "stdout",
          "output_type": "stream",
          "text": [
            "Saved TaxID cache (2900 total so far)\n"
          ]
        },
        {
          "metadata": {
            "tags": null
          },
          "name": "stderr",
          "output_type": "stream",
          "text": [
            "\rFetching TaxIDs:  15%|█▍        | 12/82 [03:28<20:17, 17.39s/it]"
          ]
        },
        {
          "metadata": {
            "tags": null
          },
          "name": "stdout",
          "output_type": "stream",
          "text": [
            "Saved TaxID cache (3000 total so far)\n"
          ]
        },
        {
          "metadata": {
            "tags": null
          },
          "name": "stderr",
          "output_type": "stream",
          "text": [
            "\rFetching TaxIDs:  16%|█▌        | 13/82 [03:47<20:15, 17.61s/it]"
          ]
        },
        {
          "metadata": {
            "tags": null
          },
          "name": "stdout",
          "output_type": "stream",
          "text": [
            "Saved TaxID cache (3100 total so far)\n"
          ]
        },
        {
          "metadata": {
            "tags": null
          },
          "name": "stderr",
          "output_type": "stream",
          "text": [
            "\rFetching TaxIDs:  17%|█▋        | 14/82 [04:04<19:52, 17.54s/it]"
          ]
        },
        {
          "metadata": {
            "tags": null
          },
          "name": "stdout",
          "output_type": "stream",
          "text": [
            "Saved TaxID cache (3200 total so far)\n"
          ]
        },
        {
          "metadata": {
            "tags": null
          },
          "name": "stderr",
          "output_type": "stream",
          "text": [
            "\rFetching TaxIDs:  18%|█▊        | 15/82 [04:21<19:18, 17.29s/it]"
          ]
        },
        {
          "metadata": {
            "tags": null
          },
          "name": "stdout",
          "output_type": "stream",
          "text": [
            "Saved TaxID cache (3300 total so far)\n"
          ]
        },
        {
          "metadata": {
            "tags": null
          },
          "name": "stderr",
          "output_type": "stream",
          "text": [
            "\rFetching TaxIDs:  20%|█▉        | 16/82 [04:38<18:57, 17.23s/it]"
          ]
        },
        {
          "metadata": {
            "tags": null
          },
          "name": "stdout",
          "output_type": "stream",
          "text": [
            "Saved TaxID cache (3400 total so far)\n"
          ]
        },
        {
          "metadata": {
            "tags": null
          },
          "name": "stderr",
          "output_type": "stream",
          "text": [
            "\rFetching TaxIDs:  21%|██        | 17/82 [04:56<19:08, 17.66s/it]"
          ]
        },
        {
          "metadata": {
            "tags": null
          },
          "name": "stdout",
          "output_type": "stream",
          "text": [
            "Saved TaxID cache (3500 total so far)\n"
          ]
        },
        {
          "metadata": {
            "tags": null
          },
          "name": "stderr",
          "output_type": "stream",
          "text": [
            "\rFetching TaxIDs:  22%|██▏       | 18/82 [05:14<18:53, 17.72s/it]"
          ]
        },
        {
          "metadata": {
            "tags": null
          },
          "name": "stdout",
          "output_type": "stream",
          "text": [
            "Saved TaxID cache (3600 total so far)\n"
          ]
        },
        {
          "metadata": {
            "tags": null
          },
          "name": "stderr",
          "output_type": "stream",
          "text": [
            "\rFetching TaxIDs:  23%|██▎       | 19/82 [05:31<18:16, 17.40s/it]"
          ]
        },
        {
          "metadata": {
            "tags": null
          },
          "name": "stdout",
          "output_type": "stream",
          "text": [
            "Saved TaxID cache (3700 total so far)\n"
          ]
        },
        {
          "metadata": {
            "tags": null
          },
          "name": "stderr",
          "output_type": "stream",
          "text": [
            "\rFetching TaxIDs:  24%|██▍       | 20/82 [05:49<18:14, 17.66s/it]"
          ]
        },
        {
          "metadata": {
            "tags": null
          },
          "name": "stdout",
          "output_type": "stream",
          "text": [
            "Saved TaxID cache (3800 total so far)\n"
          ]
        },
        {
          "metadata": {
            "tags": null
          },
          "name": "stderr",
          "output_type": "stream",
          "text": [
            "\rFetching TaxIDs:  26%|██▌       | 21/82 [06:07<18:03, 17.77s/it]"
          ]
        },
        {
          "metadata": {
            "tags": null
          },
          "name": "stdout",
          "output_type": "stream",
          "text": [
            "Saved TaxID cache (3900 total so far)\n"
          ]
        },
        {
          "metadata": {
            "tags": null
          },
          "name": "stderr",
          "output_type": "stream",
          "text": [
            "\rFetching TaxIDs:  27%|██▋       | 22/82 [06:24<17:36, 17.62s/it]"
          ]
        },
        {
          "metadata": {
            "tags": null
          },
          "name": "stdout",
          "output_type": "stream",
          "text": [
            "Saved TaxID cache (4000 total so far)\n"
          ]
        },
        {
          "metadata": {
            "tags": null
          },
          "name": "stderr",
          "output_type": "stream",
          "text": [
            "\rFetching TaxIDs:  28%|██▊       | 23/82 [06:43<17:36, 17.91s/it]"
          ]
        },
        {
          "metadata": {
            "tags": null
          },
          "name": "stdout",
          "output_type": "stream",
          "text": [
            "Saved TaxID cache (4100 total so far)\n"
          ]
        },
        {
          "metadata": {
            "tags": null
          },
          "name": "stderr",
          "output_type": "stream",
          "text": [
            "\rFetching TaxIDs:  29%|██▉       | 24/82 [07:00<17:03, 17.64s/it]"
          ]
        },
        {
          "metadata": {
            "tags": null
          },
          "name": "stdout",
          "output_type": "stream",
          "text": [
            "Saved TaxID cache (4200 total so far)\n"
          ]
        },
        {
          "metadata": {
            "tags": null
          },
          "name": "stderr",
          "output_type": "stream",
          "text": [
            "\rFetching TaxIDs:  30%|███       | 25/82 [07:17<16:33, 17.42s/it]"
          ]
        },
        {
          "metadata": {
            "tags": null
          },
          "name": "stdout",
          "output_type": "stream",
          "text": [
            "Saved TaxID cache (4300 total so far)\n"
          ]
        },
        {
          "metadata": {
            "tags": null
          },
          "name": "stderr",
          "output_type": "stream",
          "text": [
            "\rFetching TaxIDs:  32%|███▏      | 26/82 [07:36<16:35, 17.77s/it]"
          ]
        },
        {
          "metadata": {
            "tags": null
          },
          "name": "stdout",
          "output_type": "stream",
          "text": [
            "Saved TaxID cache (4400 total so far)\n"
          ]
        },
        {
          "metadata": {
            "tags": null
          },
          "name": "stderr",
          "output_type": "stream",
          "text": [
            "\rFetching TaxIDs:  33%|███▎      | 27/82 [07:53<16:03, 17.52s/it]"
          ]
        },
        {
          "metadata": {
            "tags": null
          },
          "name": "stdout",
          "output_type": "stream",
          "text": [
            "Saved TaxID cache (4500 total so far)\n"
          ]
        },
        {
          "metadata": {
            "tags": null
          },
          "name": "stderr",
          "output_type": "stream",
          "text": [
            "\rFetching TaxIDs:  34%|███▍      | 28/82 [08:11<15:59, 17.77s/it]"
          ]
        },
        {
          "metadata": {
            "tags": null
          },
          "name": "stdout",
          "output_type": "stream",
          "text": [
            "Saved TaxID cache (4600 total so far)\n"
          ]
        },
        {
          "metadata": {
            "tags": null
          },
          "name": "stderr",
          "output_type": "stream",
          "text": [
            "\rFetching TaxIDs:  35%|███▌      | 29/82 [08:28<15:38, 17.71s/it]"
          ]
        },
        {
          "metadata": {
            "tags": null
          },
          "name": "stdout",
          "output_type": "stream",
          "text": [
            "Saved TaxID cache (4700 total so far)\n"
          ]
        },
        {
          "metadata": {
            "tags": null
          },
          "name": "stderr",
          "output_type": "stream",
          "text": [
            "\rFetching TaxIDs:  37%|███▋      | 30/82 [08:45<15:03, 17.38s/it]"
          ]
        },
        {
          "metadata": {
            "tags": null
          },
          "name": "stdout",
          "output_type": "stream",
          "text": [
            "Saved TaxID cache (4800 total so far)\n"
          ]
        },
        {
          "metadata": {
            "tags": null
          },
          "name": "stderr",
          "output_type": "stream",
          "text": [
            "\rFetching TaxIDs:  38%|███▊      | 31/82 [09:03<14:55, 17.57s/it]"
          ]
        },
        {
          "metadata": {
            "tags": null
          },
          "name": "stdout",
          "output_type": "stream",
          "text": [
            "Saved TaxID cache (4900 total so far)\n"
          ]
        },
        {
          "metadata": {
            "tags": null
          },
          "name": "stderr",
          "output_type": "stream",
          "text": [
            "\rFetching TaxIDs:  39%|███▉      | 32/82 [09:22<14:55, 17.90s/it]"
          ]
        },
        {
          "metadata": {
            "tags": null
          },
          "name": "stdout",
          "output_type": "stream",
          "text": [
            "Saved TaxID cache (5000 total so far)\n"
          ]
        },
        {
          "metadata": {
            "tags": null
          },
          "name": "stderr",
          "output_type": "stream",
          "text": [
            "\rFetching TaxIDs:  40%|████      | 33/82 [09:38<14:19, 17.53s/it]"
          ]
        },
        {
          "metadata": {
            "tags": null
          },
          "name": "stdout",
          "output_type": "stream",
          "text": [
            "Saved TaxID cache (5100 total so far)\n"
          ]
        },
        {
          "metadata": {
            "tags": null
          },
          "name": "stderr",
          "output_type": "stream",
          "text": [
            "\rFetching TaxIDs:  41%|████▏     | 34/82 [09:55<13:49, 17.28s/it]"
          ]
        },
        {
          "metadata": {
            "tags": null
          },
          "name": "stdout",
          "output_type": "stream",
          "text": [
            "Saved TaxID cache (5200 total so far)\n"
          ]
        },
        {
          "metadata": {
            "tags": null
          },
          "name": "stderr",
          "output_type": "stream",
          "text": [
            "\rFetching TaxIDs:  43%|████▎     | 35/82 [10:12<13:22, 17.07s/it]"
          ]
        },
        {
          "metadata": {
            "tags": null
          },
          "name": "stdout",
          "output_type": "stream",
          "text": [
            "Saved TaxID cache (5300 total so far)\n"
          ]
        },
        {
          "metadata": {
            "tags": null
          },
          "name": "stderr",
          "output_type": "stream",
          "text": [
            "\rFetching TaxIDs:  44%|████▍     | 36/82 [10:28<12:59, 16.96s/it]"
          ]
        },
        {
          "metadata": {
            "tags": null
          },
          "name": "stdout",
          "output_type": "stream",
          "text": [
            "Saved TaxID cache (5400 total so far)\n"
          ]
        },
        {
          "metadata": {
            "tags": null
          },
          "name": "stderr",
          "output_type": "stream",
          "text": [
            "\rFetching TaxIDs:  45%|████▌     | 37/82 [10:46<12:49, 17.10s/it]"
          ]
        },
        {
          "metadata": {
            "tags": null
          },
          "name": "stdout",
          "output_type": "stream",
          "text": [
            "Saved TaxID cache (5500 total so far)\n"
          ]
        },
        {
          "metadata": {
            "tags": null
          },
          "name": "stderr",
          "output_type": "stream",
          "text": [
            "\rFetching TaxIDs:  46%|████▋     | 38/82 [11:03<12:27, 17.00s/it]"
          ]
        },
        {
          "metadata": {
            "tags": null
          },
          "name": "stdout",
          "output_type": "stream",
          "text": [
            "Saved TaxID cache (5600 total so far)\n"
          ]
        },
        {
          "metadata": {
            "tags": null
          },
          "name": "stderr",
          "output_type": "stream",
          "text": [
            "\rFetching TaxIDs:  48%|████▊     | 39/82 [11:20<12:12, 17.03s/it]"
          ]
        },
        {
          "metadata": {
            "tags": null
          },
          "name": "stdout",
          "output_type": "stream",
          "text": [
            "Saved TaxID cache (5700 total so far)\n"
          ]
        },
        {
          "metadata": {
            "tags": null
          },
          "name": "stderr",
          "output_type": "stream",
          "text": [
            "\rFetching TaxIDs:  49%|████▉     | 40/82 [11:36<11:51, 16.93s/it]"
          ]
        },
        {
          "metadata": {
            "tags": null
          },
          "name": "stdout",
          "output_type": "stream",
          "text": [
            "Saved TaxID cache (5800 total so far)\n"
          ]
        },
        {
          "metadata": {
            "tags": null
          },
          "name": "stderr",
          "output_type": "stream",
          "text": [
            "\rFetching TaxIDs:  50%|█████     | 41/82 [11:53<11:30, 16.84s/it]"
          ]
        },
        {
          "metadata": {
            "tags": null
          },
          "name": "stdout",
          "output_type": "stream",
          "text": [
            "Saved TaxID cache (5900 total so far)\n"
          ]
        },
        {
          "metadata": {
            "tags": null
          },
          "name": "stderr",
          "output_type": "stream",
          "text": [
            "\rFetching TaxIDs:  51%|█████     | 42/82 [12:11<11:22, 17.05s/it]"
          ]
        },
        {
          "metadata": {
            "tags": null
          },
          "name": "stdout",
          "output_type": "stream",
          "text": [
            "Saved TaxID cache (6000 total so far)\n"
          ]
        },
        {
          "metadata": {
            "tags": null
          },
          "name": "stderr",
          "output_type": "stream",
          "text": [
            "\rFetching TaxIDs:  52%|█████▏    | 43/82 [12:28<11:08, 17.14s/it]"
          ]
        },
        {
          "metadata": {
            "tags": null
          },
          "name": "stdout",
          "output_type": "stream",
          "text": [
            "Saved TaxID cache (6100 total so far)\n"
          ]
        },
        {
          "metadata": {
            "tags": null
          },
          "name": "stderr",
          "output_type": "stream",
          "text": [
            "\rFetching TaxIDs:  54%|█████▎    | 44/82 [12:45<10:50, 17.12s/it]"
          ]
        },
        {
          "metadata": {
            "tags": null
          },
          "name": "stdout",
          "output_type": "stream",
          "text": [
            "Saved TaxID cache (6200 total so far)\n"
          ]
        },
        {
          "metadata": {
            "tags": null
          },
          "name": "stderr",
          "output_type": "stream",
          "text": [
            "\rFetching TaxIDs:  55%|█████▍    | 45/82 [13:02<10:27, 16.97s/it]"
          ]
        },
        {
          "metadata": {
            "tags": null
          },
          "name": "stdout",
          "output_type": "stream",
          "text": [
            "Saved TaxID cache (6300 total so far)\n"
          ]
        },
        {
          "metadata": {
            "tags": null
          },
          "name": "stderr",
          "output_type": "stream",
          "text": [
            "\rFetching TaxIDs:  56%|█████▌    | 46/82 [13:18<10:09, 16.93s/it]"
          ]
        },
        {
          "metadata": {
            "tags": null
          },
          "name": "stdout",
          "output_type": "stream",
          "text": [
            "Saved TaxID cache (6400 total so far)\n"
          ]
        },
        {
          "metadata": {
            "tags": null
          },
          "name": "stderr",
          "output_type": "stream",
          "text": [
            "\rFetching TaxIDs:  57%|█████▋    | 47/82 [13:35<09:53, 16.97s/it]"
          ]
        },
        {
          "metadata": {
            "tags": null
          },
          "name": "stdout",
          "output_type": "stream",
          "text": [
            "Saved TaxID cache (6500 total so far)\n"
          ]
        },
        {
          "metadata": {
            "tags": null
          },
          "name": "stderr",
          "output_type": "stream",
          "text": [
            "\rFetching TaxIDs:  59%|█████▊    | 48/82 [13:53<09:44, 17.19s/it]"
          ]
        },
        {
          "metadata": {
            "tags": null
          },
          "name": "stdout",
          "output_type": "stream",
          "text": [
            "Saved TaxID cache (6600 total so far)\n"
          ]
        },
        {
          "metadata": {
            "tags": null
          },
          "name": "stderr",
          "output_type": "stream",
          "text": [
            "\rFetching TaxIDs:  60%|█████▉    | 49/82 [14:10<09:26, 17.18s/it]"
          ]
        },
        {
          "metadata": {
            "tags": null
          },
          "name": "stdout",
          "output_type": "stream",
          "text": [
            "Saved TaxID cache (6700 total so far)\n"
          ]
        },
        {
          "metadata": {
            "tags": null
          },
          "name": "stderr",
          "output_type": "stream",
          "text": [
            "\rFetching TaxIDs:  61%|██████    | 50/82 [14:29<09:26, 17.71s/it]"
          ]
        },
        {
          "metadata": {
            "tags": null
          },
          "name": "stdout",
          "output_type": "stream",
          "text": [
            "Saved TaxID cache (6800 total so far)\n"
          ]
        },
        {
          "metadata": {
            "tags": null
          },
          "name": "stderr",
          "output_type": "stream",
          "text": [
            "\rFetching TaxIDs:  62%|██████▏   | 51/82 [14:47<09:09, 17.74s/it]"
          ]
        },
        {
          "metadata": {
            "tags": null
          },
          "name": "stdout",
          "output_type": "stream",
          "text": [
            "Saved TaxID cache (6900 total so far)\n"
          ]
        },
        {
          "metadata": {
            "tags": null
          },
          "name": "stderr",
          "output_type": "stream",
          "text": [
            "\rFetching TaxIDs:  63%|██████▎   | 52/82 [15:04<08:46, 17.55s/it]"
          ]
        },
        {
          "metadata": {
            "tags": null
          },
          "name": "stdout",
          "output_type": "stream",
          "text": [
            "Saved TaxID cache (7000 total so far)\n"
          ]
        },
        {
          "metadata": {
            "tags": null
          },
          "name": "stderr",
          "output_type": "stream",
          "text": [
            "\rFetching TaxIDs:  65%|██████▍   | 53/82 [15:25<08:57, 18.53s/it]"
          ]
        },
        {
          "metadata": {
            "tags": null
          },
          "name": "stdout",
          "output_type": "stream",
          "text": [
            "Saved TaxID cache (7100 total so far)\n"
          ]
        },
        {
          "metadata": {
            "tags": null
          },
          "name": "stderr",
          "output_type": "stream",
          "text": [
            "\rFetching TaxIDs:  66%|██████▌   | 54/82 [15:43<08:31, 18.27s/it]"
          ]
        },
        {
          "metadata": {
            "tags": null
          },
          "name": "stdout",
          "output_type": "stream",
          "text": [
            "Saved TaxID cache (7200 total so far)\n"
          ]
        },
        {
          "metadata": {
            "tags": null
          },
          "name": "stderr",
          "output_type": "stream",
          "text": [
            "\rFetching TaxIDs:  67%|██████▋   | 55/82 [16:00<08:04, 17.96s/it]"
          ]
        },
        {
          "metadata": {
            "tags": null
          },
          "name": "stdout",
          "output_type": "stream",
          "text": [
            "Saved TaxID cache (7300 total so far)\n"
          ]
        },
        {
          "metadata": {
            "tags": null
          },
          "name": "stderr",
          "output_type": "stream",
          "text": [
            "\rFetching TaxIDs:  68%|██████▊   | 56/82 [16:17<07:37, 17.59s/it]"
          ]
        },
        {
          "metadata": {
            "tags": null
          },
          "name": "stdout",
          "output_type": "stream",
          "text": [
            "Saved TaxID cache (7400 total so far)\n"
          ]
        },
        {
          "metadata": {
            "tags": null
          },
          "name": "stderr",
          "output_type": "stream",
          "text": [
            "\rFetching TaxIDs:  70%|██████▉   | 57/82 [16:33<07:12, 17.31s/it]"
          ]
        },
        {
          "metadata": {
            "tags": null
          },
          "name": "stdout",
          "output_type": "stream",
          "text": [
            "Saved TaxID cache (7500 total so far)\n"
          ]
        },
        {
          "metadata": {
            "tags": null
          },
          "name": "stderr",
          "output_type": "stream",
          "text": [
            "\rFetching TaxIDs:  71%|███████   | 58/82 [16:52<07:03, 17.66s/it]"
          ]
        },
        {
          "metadata": {
            "tags": null
          },
          "name": "stdout",
          "output_type": "stream",
          "text": [
            "Saved TaxID cache (7600 total so far)\n"
          ]
        },
        {
          "metadata": {
            "tags": null
          },
          "name": "stderr",
          "output_type": "stream",
          "text": [
            "\rFetching TaxIDs:  72%|███████▏  | 59/82 [17:12<07:01, 18.31s/it]"
          ]
        },
        {
          "metadata": {
            "tags": null
          },
          "name": "stdout",
          "output_type": "stream",
          "text": [
            "Saved TaxID cache (7700 total so far)\n"
          ]
        },
        {
          "metadata": {
            "tags": null
          },
          "name": "stderr",
          "output_type": "stream",
          "text": [
            "\rFetching TaxIDs:  73%|███████▎  | 60/82 [17:31<06:50, 18.67s/it]"
          ]
        },
        {
          "metadata": {
            "tags": null
          },
          "name": "stdout",
          "output_type": "stream",
          "text": [
            "Saved TaxID cache (7800 total so far)\n"
          ]
        },
        {
          "metadata": {
            "tags": null
          },
          "name": "stderr",
          "output_type": "stream",
          "text": [
            "\rFetching TaxIDs:  74%|███████▍  | 61/82 [17:50<06:30, 18.60s/it]"
          ]
        },
        {
          "metadata": {
            "tags": null
          },
          "name": "stdout",
          "output_type": "stream",
          "text": [
            "Saved TaxID cache (7900 total so far)\n"
          ]
        },
        {
          "metadata": {
            "tags": null
          },
          "name": "stderr",
          "output_type": "stream",
          "text": [
            "\rFetching TaxIDs:  76%|███████▌  | 62/82 [18:07<06:05, 18.28s/it]"
          ]
        },
        {
          "metadata": {
            "tags": null
          },
          "name": "stdout",
          "output_type": "stream",
          "text": [
            "Saved TaxID cache (8000 total so far)\n"
          ]
        },
        {
          "metadata": {
            "tags": null
          },
          "name": "stderr",
          "output_type": "stream",
          "text": [
            "\rFetching TaxIDs:  77%|███████▋  | 63/82 [18:26<05:50, 18.44s/it]"
          ]
        },
        {
          "metadata": {
            "tags": null
          },
          "name": "stdout",
          "output_type": "stream",
          "text": [
            "Saved TaxID cache (8100 total so far)\n"
          ]
        },
        {
          "metadata": {
            "tags": null
          },
          "name": "stderr",
          "output_type": "stream",
          "text": [
            "\rFetching TaxIDs:  78%|███████▊  | 64/82 [18:44<05:32, 18.45s/it]"
          ]
        },
        {
          "metadata": {
            "tags": null
          },
          "name": "stdout",
          "output_type": "stream",
          "text": [
            "Saved TaxID cache (8200 total so far)\n"
          ]
        },
        {
          "metadata": {
            "tags": null
          },
          "name": "stderr",
          "output_type": "stream",
          "text": [
            "\rFetching TaxIDs:  79%|███████▉  | 65/82 [19:02<05:07, 18.10s/it]"
          ]
        },
        {
          "metadata": {
            "tags": null
          },
          "name": "stdout",
          "output_type": "stream",
          "text": [
            "Saved TaxID cache (8300 total so far)\n"
          ]
        },
        {
          "metadata": {
            "tags": null
          },
          "name": "stderr",
          "output_type": "stream",
          "text": [
            "\rFetching TaxIDs:  80%|████████  | 66/82 [19:20<04:52, 18.27s/it]"
          ]
        },
        {
          "metadata": {
            "tags": null
          },
          "name": "stdout",
          "output_type": "stream",
          "text": [
            "Saved TaxID cache (8400 total so far)\n"
          ]
        },
        {
          "metadata": {
            "tags": null
          },
          "name": "stderr",
          "output_type": "stream",
          "text": [
            "\rFetching TaxIDs:  82%|████████▏ | 67/82 [19:39<04:34, 18.29s/it]"
          ]
        },
        {
          "metadata": {
            "tags": null
          },
          "name": "stdout",
          "output_type": "stream",
          "text": [
            "Saved TaxID cache (8500 total so far)\n"
          ]
        },
        {
          "metadata": {
            "tags": null
          },
          "name": "stderr",
          "output_type": "stream",
          "text": [
            "\rFetching TaxIDs:  83%|████████▎ | 68/82 [19:56<04:11, 17.99s/it]"
          ]
        },
        {
          "metadata": {
            "tags": null
          },
          "name": "stdout",
          "output_type": "stream",
          "text": [
            "Saved TaxID cache (8600 total so far)\n"
          ]
        },
        {
          "metadata": {
            "tags": null
          },
          "name": "stderr",
          "output_type": "stream",
          "text": [
            "\rFetching TaxIDs:  84%|████████▍ | 69/82 [20:14<03:52, 17.88s/it]"
          ]
        },
        {
          "metadata": {
            "tags": null
          },
          "name": "stdout",
          "output_type": "stream",
          "text": [
            "Saved TaxID cache (8700 total so far)\n"
          ]
        },
        {
          "metadata": {
            "tags": null
          },
          "name": "stderr",
          "output_type": "stream",
          "text": [
            "\rFetching TaxIDs:  85%|████████▌ | 70/82 [20:30<03:30, 17.55s/it]"
          ]
        },
        {
          "metadata": {
            "tags": null
          },
          "name": "stdout",
          "output_type": "stream",
          "text": [
            "Saved TaxID cache (8800 total so far)\n"
          ]
        },
        {
          "metadata": {
            "tags": null
          },
          "name": "stderr",
          "output_type": "stream",
          "text": [
            "\rFetching TaxIDs:  87%|████████▋ | 71/82 [20:48<03:12, 17.50s/it]"
          ]
        },
        {
          "metadata": {
            "tags": null
          },
          "name": "stdout",
          "output_type": "stream",
          "text": [
            "Saved TaxID cache (8900 total so far)\n"
          ]
        },
        {
          "metadata": {
            "tags": null
          },
          "name": "stderr",
          "output_type": "stream",
          "text": [
            "\rFetching TaxIDs:  88%|████████▊ | 72/82 [21:05<02:53, 17.33s/it]"
          ]
        },
        {
          "metadata": {
            "tags": null
          },
          "name": "stdout",
          "output_type": "stream",
          "text": [
            "Saved TaxID cache (9000 total so far)\n"
          ]
        },
        {
          "metadata": {
            "tags": null
          },
          "name": "stderr",
          "output_type": "stream",
          "text": [
            "\rFetching TaxIDs:  89%|████████▉ | 73/82 [21:24<02:40, 17.83s/it]"
          ]
        },
        {
          "metadata": {
            "tags": null
          },
          "name": "stdout",
          "output_type": "stream",
          "text": [
            "Saved TaxID cache (9100 total so far)\n"
          ]
        },
        {
          "metadata": {
            "tags": null
          },
          "name": "stderr",
          "output_type": "stream",
          "text": [
            "\rFetching TaxIDs:  90%|█████████ | 74/82 [21:42<02:24, 18.05s/it]"
          ]
        },
        {
          "metadata": {
            "tags": null
          },
          "name": "stdout",
          "output_type": "stream",
          "text": [
            "Saved TaxID cache (9200 total so far)\n"
          ]
        },
        {
          "metadata": {
            "tags": null
          },
          "name": "stderr",
          "output_type": "stream",
          "text": [
            "\rFetching TaxIDs:  91%|█████████▏| 75/82 [22:02<02:09, 18.53s/it]"
          ]
        },
        {
          "metadata": {
            "tags": null
          },
          "name": "stdout",
          "output_type": "stream",
          "text": [
            "Saved TaxID cache (9300 total so far)\n"
          ]
        },
        {
          "metadata": {
            "tags": null
          },
          "name": "stderr",
          "output_type": "stream",
          "text": [
            "\rFetching TaxIDs:  93%|█████████▎| 76/82 [22:20<01:49, 18.31s/it]"
          ]
        },
        {
          "metadata": {
            "tags": null
          },
          "name": "stdout",
          "output_type": "stream",
          "text": [
            "Saved TaxID cache (9400 total so far)\n"
          ]
        },
        {
          "metadata": {
            "tags": null
          },
          "name": "stderr",
          "output_type": "stream",
          "text": [
            "\rFetching TaxIDs:  94%|█████████▍| 77/82 [22:37<01:29, 17.98s/it]"
          ]
        },
        {
          "metadata": {
            "tags": null
          },
          "name": "stdout",
          "output_type": "stream",
          "text": [
            "Saved TaxID cache (9500 total so far)\n"
          ]
        },
        {
          "metadata": {
            "tags": null
          },
          "name": "stderr",
          "output_type": "stream",
          "text": [
            "\rFetching TaxIDs:  95%|█████████▌| 78/82 [22:54<01:10, 17.73s/it]"
          ]
        },
        {
          "metadata": {
            "tags": null
          },
          "name": "stdout",
          "output_type": "stream",
          "text": [
            "Saved TaxID cache (9600 total so far)\n"
          ]
        },
        {
          "metadata": {
            "tags": null
          },
          "name": "stderr",
          "output_type": "stream",
          "text": [
            "\rFetching TaxIDs:  96%|█████████▋| 79/82 [23:12<00:53, 17.77s/it]"
          ]
        },
        {
          "metadata": {
            "tags": null
          },
          "name": "stdout",
          "output_type": "stream",
          "text": [
            "Saved TaxID cache (9700 total so far)\n"
          ]
        },
        {
          "metadata": {
            "tags": null
          },
          "name": "stderr",
          "output_type": "stream",
          "text": [
            "\rFetching TaxIDs:  98%|█████████▊| 80/82 [23:29<00:35, 17.72s/it]"
          ]
        },
        {
          "metadata": {
            "tags": null
          },
          "name": "stdout",
          "output_type": "stream",
          "text": [
            "Saved TaxID cache (9800 total so far)\n"
          ]
        },
        {
          "metadata": {
            "tags": null
          },
          "name": "stderr",
          "output_type": "stream",
          "text": [
            "\rFetching TaxIDs:  99%|█████████▉| 81/82 [23:46<00:17, 17.34s/it]"
          ]
        },
        {
          "metadata": {
            "tags": null
          },
          "name": "stdout",
          "output_type": "stream",
          "text": [
            "Saved TaxID cache (9900 total so far)\n"
          ]
        },
        {
          "metadata": {
            "tags": null
          },
          "name": "stderr",
          "output_type": "stream",
          "text": [
            "Fetching TaxIDs: 100%|██████████| 82/82 [24:03<00:00, 17.60s/it]\n"
          ]
        },
        {
          "metadata": {
            "tags": null
          },
          "name": "stdout",
          "output_type": "stream",
          "text": [
            "Saved TaxID cache (10000 total so far)\n",
            "🔎 7292 species left to fetch classes.\n"
          ]
        },
        {
          "metadata": {
            "tags": null
          },
          "name": "stderr",
          "output_type": "stream",
          "text": [
            "Fetching Classes:   1%|▏         | 1/73 [00:00<00:51,  1.39it/s]"
          ]
        },
        {
          "metadata": {
            "tags": null
          },
          "name": "stdout",
          "output_type": "stream",
          "text": [
            "💾 Saved class cache (2 total so far)\n"
          ]
        },
        {
          "metadata": {
            "tags": null
          },
          "name": "stderr",
          "output_type": "stream",
          "text": [
            "\rFetching Classes:   3%|▎         | 2/73 [00:01<00:41,  1.69it/s]"
          ]
        },
        {
          "metadata": {
            "tags": null
          },
          "name": "stdout",
          "output_type": "stream",
          "text": [
            "💾 Saved class cache (7 total so far)\n"
          ]
        },
        {
          "metadata": {
            "tags": null
          },
          "name": "stderr",
          "output_type": "stream",
          "text": [
            "\rFetching Classes:   4%|▍         | 3/73 [00:02<00:48,  1.46it/s]"
          ]
        },
        {
          "metadata": {
            "tags": null
          },
          "name": "stdout",
          "output_type": "stream",
          "text": [
            "💾 Saved class cache (9 total so far)\n"
          ]
        },
        {
          "metadata": {
            "tags": null
          },
          "name": "stderr",
          "output_type": "stream",
          "text": [
            "\rFetching Classes:   5%|▌         | 4/73 [00:02<00:46,  1.49it/s]"
          ]
        },
        {
          "metadata": {
            "tags": null
          },
          "name": "stdout",
          "output_type": "stream",
          "text": [
            "💾 Saved class cache (10 total so far)\n"
          ]
        },
        {
          "metadata": {
            "tags": null
          },
          "name": "stderr",
          "output_type": "stream",
          "text": [
            "\rFetching Classes:   7%|▋         | 5/73 [00:03<00:50,  1.34it/s]"
          ]
        },
        {
          "metadata": {
            "tags": null
          },
          "name": "stdout",
          "output_type": "stream",
          "text": [
            "💾 Saved class cache (10 total so far)\n"
          ]
        },
        {
          "metadata": {
            "tags": null
          },
          "name": "stderr",
          "output_type": "stream",
          "text": [
            "\rFetching Classes:   8%|▊         | 6/73 [00:04<00:53,  1.25it/s]"
          ]
        },
        {
          "metadata": {
            "tags": null
          },
          "name": "stdout",
          "output_type": "stream",
          "text": [
            "💾 Saved class cache (10 total so far)\n"
          ]
        },
        {
          "metadata": {
            "tags": null
          },
          "name": "stderr",
          "output_type": "stream",
          "text": [
            "\rFetching Classes:  10%|▉         | 7/73 [00:05<00:52,  1.26it/s]"
          ]
        },
        {
          "metadata": {
            "tags": null
          },
          "name": "stdout",
          "output_type": "stream",
          "text": [
            "💾 Saved class cache (10 total so far)\n"
          ]
        },
        {
          "metadata": {
            "tags": null
          },
          "name": "stderr",
          "output_type": "stream",
          "text": [
            "\rFetching Classes:  11%|█         | 8/73 [00:06<00:54,  1.20it/s]"
          ]
        },
        {
          "metadata": {
            "tags": null
          },
          "name": "stdout",
          "output_type": "stream",
          "text": [
            "💾 Saved class cache (10 total so far)\n"
          ]
        },
        {
          "metadata": {
            "tags": null
          },
          "name": "stderr",
          "output_type": "stream",
          "text": [
            "\rFetching Classes:  12%|█▏        | 9/73 [00:06<00:49,  1.29it/s]"
          ]
        },
        {
          "metadata": {
            "tags": null
          },
          "name": "stdout",
          "output_type": "stream",
          "text": [
            "💾 Saved class cache (15 total so far)\n"
          ]
        },
        {
          "metadata": {
            "tags": null
          },
          "name": "stderr",
          "output_type": "stream",
          "text": [
            "\rFetching Classes:  14%|█▎        | 10/73 [00:07<00:46,  1.36it/s]"
          ]
        },
        {
          "metadata": {
            "tags": null
          },
          "name": "stdout",
          "output_type": "stream",
          "text": [
            "💾 Saved class cache (22 total so far)\n"
          ]
        },
        {
          "metadata": {
            "tags": null
          },
          "name": "stderr",
          "output_type": "stream",
          "text": [
            "\rFetching Classes:  15%|█▌        | 11/73 [00:07<00:40,  1.54it/s]"
          ]
        },
        {
          "metadata": {
            "tags": null
          },
          "name": "stdout",
          "output_type": "stream",
          "text": [
            "💾 Saved class cache (28 total so far)\n"
          ]
        },
        {
          "metadata": {
            "tags": null
          },
          "name": "stderr",
          "output_type": "stream",
          "text": [
            "\rFetching Classes:  16%|█▋        | 12/73 [00:08<00:41,  1.48it/s]"
          ]
        },
        {
          "metadata": {
            "tags": null
          },
          "name": "stdout",
          "output_type": "stream",
          "text": [
            "💾 Saved class cache (41 total so far)\n"
          ]
        },
        {
          "metadata": {
            "tags": null
          },
          "name": "stderr",
          "output_type": "stream",
          "text": [
            "\rFetching Classes:  18%|█▊        | 13/73 [00:09<00:41,  1.46it/s]"
          ]
        },
        {
          "metadata": {
            "tags": null
          },
          "name": "stdout",
          "output_type": "stream",
          "text": [
            "💾 Saved class cache (56 total so far)\n"
          ]
        },
        {
          "metadata": {
            "tags": null
          },
          "name": "stderr",
          "output_type": "stream",
          "text": [
            "\rFetching Classes:  19%|█▉        | 14/73 [00:10<00:42,  1.40it/s]"
          ]
        },
        {
          "metadata": {
            "tags": null
          },
          "name": "stdout",
          "output_type": "stream",
          "text": [
            "💾 Saved class cache (77 total so far)\n"
          ]
        },
        {
          "metadata": {
            "tags": null
          },
          "name": "stderr",
          "output_type": "stream",
          "text": [
            "\rFetching Classes:  21%|██        | 15/73 [00:10<00:43,  1.34it/s]"
          ]
        },
        {
          "metadata": {
            "tags": null
          },
          "name": "stdout",
          "output_type": "stream",
          "text": [
            "💾 Saved class cache (175 total so far)\n"
          ]
        },
        {
          "metadata": {
            "tags": null
          },
          "name": "stderr",
          "output_type": "stream",
          "text": [
            "\rFetching Classes:  22%|██▏       | 16/73 [00:12<00:55,  1.02it/s]"
          ]
        },
        {
          "metadata": {
            "tags": null
          },
          "name": "stdout",
          "output_type": "stream",
          "text": [
            "💾 Saved class cache (275 total so far)\n"
          ]
        },
        {
          "metadata": {
            "tags": null
          },
          "name": "stderr",
          "output_type": "stream",
          "text": [
            "\rFetching Classes:  23%|██▎       | 17/73 [00:13<00:50,  1.10it/s]"
          ]
        },
        {
          "metadata": {
            "tags": null
          },
          "name": "stdout",
          "output_type": "stream",
          "text": [
            "💾 Saved class cache (374 total so far)\n"
          ]
        },
        {
          "metadata": {
            "tags": null
          },
          "name": "stderr",
          "output_type": "stream",
          "text": [
            "\rFetching Classes:  25%|██▍       | 18/73 [00:13<00:44,  1.23it/s]"
          ]
        },
        {
          "metadata": {
            "tags": null
          },
          "name": "stdout",
          "output_type": "stream",
          "text": [
            "💾 Saved class cache (473 total so far)\n"
          ]
        },
        {
          "metadata": {
            "tags": null
          },
          "name": "stderr",
          "output_type": "stream",
          "text": [
            "\rFetching Classes:  26%|██▌       | 19/73 [00:14<00:42,  1.27it/s]"
          ]
        },
        {
          "metadata": {
            "tags": null
          },
          "name": "stdout",
          "output_type": "stream",
          "text": [
            "💾 Saved class cache (570 total so far)\n"
          ]
        },
        {
          "metadata": {
            "tags": null
          },
          "name": "stderr",
          "output_type": "stream",
          "text": [
            "\rFetching Classes:  27%|██▋       | 20/73 [00:15<00:37,  1.40it/s]"
          ]
        },
        {
          "metadata": {
            "tags": null
          },
          "name": "stdout",
          "output_type": "stream",
          "text": [
            "💾 Saved class cache (664 total so far)\n"
          ]
        },
        {
          "metadata": {
            "tags": null
          },
          "name": "stderr",
          "output_type": "stream",
          "text": [
            "\rFetching Classes:  29%|██▉       | 21/73 [00:15<00:37,  1.38it/s]"
          ]
        },
        {
          "metadata": {
            "tags": null
          },
          "name": "stdout",
          "output_type": "stream",
          "text": [
            "💾 Saved class cache (754 total so far)\n"
          ]
        },
        {
          "metadata": {
            "tags": null
          },
          "name": "stderr",
          "output_type": "stream",
          "text": [
            "\rFetching Classes:  30%|███       | 22/73 [00:16<00:37,  1.36it/s]"
          ]
        },
        {
          "metadata": {
            "tags": null
          },
          "name": "stdout",
          "output_type": "stream",
          "text": [
            "💾 Saved class cache (851 total so far)\n"
          ]
        },
        {
          "metadata": {
            "tags": null
          },
          "name": "stderr",
          "output_type": "stream",
          "text": [
            "\rFetching Classes:  32%|███▏      | 23/73 [00:17<00:34,  1.44it/s]"
          ]
        },
        {
          "metadata": {
            "tags": null
          },
          "name": "stdout",
          "output_type": "stream",
          "text": [
            "💾 Saved class cache (949 total so far)\n"
          ]
        },
        {
          "metadata": {
            "tags": null
          },
          "name": "stderr",
          "output_type": "stream",
          "text": [
            "\rFetching Classes:  33%|███▎      | 24/73 [00:17<00:35,  1.39it/s]"
          ]
        },
        {
          "metadata": {
            "tags": null
          },
          "name": "stdout",
          "output_type": "stream",
          "text": [
            "💾 Saved class cache (1045 total so far)\n"
          ]
        },
        {
          "metadata": {
            "tags": null
          },
          "name": "stderr",
          "output_type": "stream",
          "text": [
            "\rFetching Classes:  34%|███▍      | 25/73 [00:18<00:32,  1.50it/s]"
          ]
        },
        {
          "metadata": {
            "tags": null
          },
          "name": "stdout",
          "output_type": "stream",
          "text": [
            "💾 Saved class cache (1142 total so far)\n"
          ]
        },
        {
          "metadata": {
            "tags": null
          },
          "name": "stderr",
          "output_type": "stream",
          "text": [
            "\rFetching Classes:  36%|███▌      | 26/73 [00:19<00:32,  1.45it/s]"
          ]
        },
        {
          "metadata": {
            "tags": null
          },
          "name": "stdout",
          "output_type": "stream",
          "text": [
            "💾 Saved class cache (1239 total so far)\n"
          ]
        },
        {
          "metadata": {
            "tags": null
          },
          "name": "stderr",
          "output_type": "stream",
          "text": [
            "\rFetching Classes:  37%|███▋      | 27/73 [00:19<00:31,  1.46it/s]"
          ]
        },
        {
          "metadata": {
            "tags": null
          },
          "name": "stdout",
          "output_type": "stream",
          "text": [
            "💾 Saved class cache (1339 total so far)\n"
          ]
        },
        {
          "metadata": {
            "tags": null
          },
          "name": "stderr",
          "output_type": "stream",
          "text": [
            "\rFetching Classes:  38%|███▊      | 28/73 [00:20<00:31,  1.41it/s]"
          ]
        },
        {
          "metadata": {
            "tags": null
          },
          "name": "stdout",
          "output_type": "stream",
          "text": [
            "💾 Saved class cache (1439 total so far)\n"
          ]
        },
        {
          "metadata": {
            "tags": null
          },
          "name": "stderr",
          "output_type": "stream",
          "text": [
            "\rFetching Classes:  40%|███▉      | 29/73 [00:21<00:35,  1.24it/s]"
          ]
        },
        {
          "metadata": {
            "tags": null
          },
          "name": "stdout",
          "output_type": "stream",
          "text": [
            "💾 Saved class cache (1539 total so far)\n"
          ]
        },
        {
          "metadata": {
            "tags": null
          },
          "name": "stderr",
          "output_type": "stream",
          "text": [
            "\rFetching Classes:  41%|████      | 30/73 [00:22<00:34,  1.26it/s]"
          ]
        },
        {
          "metadata": {
            "tags": null
          },
          "name": "stdout",
          "output_type": "stream",
          "text": [
            "💾 Saved class cache (1639 total so far)\n"
          ]
        },
        {
          "metadata": {
            "tags": null
          },
          "name": "stderr",
          "output_type": "stream",
          "text": [
            "\rFetching Classes:  42%|████▏     | 31/73 [00:23<00:31,  1.35it/s]"
          ]
        },
        {
          "metadata": {
            "tags": null
          },
          "name": "stdout",
          "output_type": "stream",
          "text": [
            "💾 Saved class cache (1739 total so far)\n"
          ]
        },
        {
          "metadata": {
            "tags": null
          },
          "name": "stderr",
          "output_type": "stream",
          "text": [
            "\rFetching Classes:  44%|████▍     | 32/73 [00:23<00:29,  1.39it/s]"
          ]
        },
        {
          "metadata": {
            "tags": null
          },
          "name": "stdout",
          "output_type": "stream",
          "text": [
            "💾 Saved class cache (1839 total so far)\n"
          ]
        },
        {
          "metadata": {
            "tags": null
          },
          "name": "stderr",
          "output_type": "stream",
          "text": [
            "\rFetching Classes:  45%|████▌     | 33/73 [00:24<00:30,  1.32it/s]"
          ]
        },
        {
          "metadata": {
            "tags": null
          },
          "name": "stdout",
          "output_type": "stream",
          "text": [
            "💾 Saved class cache (1939 total so far)\n"
          ]
        },
        {
          "metadata": {
            "tags": null
          },
          "name": "stderr",
          "output_type": "stream",
          "text": [
            "\rFetching Classes:  47%|████▋     | 34/73 [00:25<00:32,  1.20it/s]"
          ]
        },
        {
          "metadata": {
            "tags": null
          },
          "name": "stdout",
          "output_type": "stream",
          "text": [
            "💾 Saved class cache (2037 total so far)\n"
          ]
        },
        {
          "metadata": {
            "tags": null
          },
          "name": "stderr",
          "output_type": "stream",
          "text": [
            "\rFetching Classes:  48%|████▊     | 35/73 [00:26<00:28,  1.36it/s]"
          ]
        },
        {
          "metadata": {
            "tags": null
          },
          "name": "stdout",
          "output_type": "stream",
          "text": [
            "💾 Saved class cache (2136 total so far)\n"
          ]
        },
        {
          "metadata": {
            "tags": null
          },
          "name": "stderr",
          "output_type": "stream",
          "text": [
            "\rFetching Classes:  49%|████▉     | 36/73 [00:26<00:26,  1.42it/s]"
          ]
        },
        {
          "metadata": {
            "tags": null
          },
          "name": "stdout",
          "output_type": "stream",
          "text": [
            "💾 Saved class cache (2236 total so far)\n"
          ]
        },
        {
          "metadata": {
            "tags": null
          },
          "name": "stderr",
          "output_type": "stream",
          "text": [
            "\rFetching Classes:  51%|█████     | 37/73 [00:27<00:24,  1.47it/s]"
          ]
        },
        {
          "metadata": {
            "tags": null
          },
          "name": "stdout",
          "output_type": "stream",
          "text": [
            "💾 Saved class cache (2335 total so far)\n"
          ]
        },
        {
          "metadata": {
            "tags": null
          },
          "name": "stderr",
          "output_type": "stream",
          "text": [
            "\rFetching Classes:  52%|█████▏    | 38/73 [00:28<00:23,  1.50it/s]"
          ]
        },
        {
          "metadata": {
            "tags": null
          },
          "name": "stdout",
          "output_type": "stream",
          "text": [
            "💾 Saved class cache (2435 total so far)\n"
          ]
        },
        {
          "metadata": {
            "tags": null
          },
          "name": "stderr",
          "output_type": "stream",
          "text": [
            "\rFetching Classes:  53%|█████▎    | 39/73 [00:28<00:22,  1.53it/s]"
          ]
        },
        {
          "metadata": {
            "tags": null
          },
          "name": "stdout",
          "output_type": "stream",
          "text": [
            "💾 Saved class cache (2535 total so far)\n"
          ]
        },
        {
          "metadata": {
            "tags": null
          },
          "name": "stderr",
          "output_type": "stream",
          "text": [
            "\rFetching Classes:  55%|█████▍    | 40/73 [00:29<00:22,  1.50it/s]"
          ]
        },
        {
          "metadata": {
            "tags": null
          },
          "name": "stdout",
          "output_type": "stream",
          "text": [
            "💾 Saved class cache (2634 total so far)\n"
          ]
        },
        {
          "metadata": {
            "tags": null
          },
          "name": "stderr",
          "output_type": "stream",
          "text": [
            "\rFetching Classes:  56%|█████▌    | 41/73 [00:30<00:22,  1.43it/s]"
          ]
        },
        {
          "metadata": {
            "tags": null
          },
          "name": "stdout",
          "output_type": "stream",
          "text": [
            "💾 Saved class cache (2734 total so far)\n"
          ]
        },
        {
          "metadata": {
            "tags": null
          },
          "name": "stderr",
          "output_type": "stream",
          "text": [
            "\rFetching Classes:  58%|█████▊    | 42/73 [00:30<00:22,  1.37it/s]"
          ]
        },
        {
          "metadata": {
            "tags": null
          },
          "name": "stdout",
          "output_type": "stream",
          "text": [
            "💾 Saved class cache (2833 total so far)\n"
          ]
        },
        {
          "metadata": {
            "tags": null
          },
          "name": "stderr",
          "output_type": "stream",
          "text": [
            "\rFetching Classes:  59%|█████▉    | 43/73 [00:31<00:23,  1.29it/s]"
          ]
        },
        {
          "metadata": {
            "tags": null
          },
          "name": "stdout",
          "output_type": "stream",
          "text": [
            "💾 Saved class cache (2933 total so far)\n"
          ]
        },
        {
          "metadata": {
            "tags": null
          },
          "name": "stderr",
          "output_type": "stream",
          "text": [
            "\rFetching Classes:  60%|██████    | 44/73 [00:32<00:21,  1.38it/s]"
          ]
        },
        {
          "metadata": {
            "tags": null
          },
          "name": "stdout",
          "output_type": "stream",
          "text": [
            "💾 Saved class cache (3031 total so far)\n"
          ]
        },
        {
          "metadata": {
            "tags": null
          },
          "name": "stderr",
          "output_type": "stream",
          "text": [
            "\rFetching Classes:  62%|██████▏   | 45/73 [00:33<00:19,  1.42it/s]"
          ]
        },
        {
          "metadata": {
            "tags": null
          },
          "name": "stdout",
          "output_type": "stream",
          "text": [
            "💾 Saved class cache (3131 total so far)\n"
          ]
        },
        {
          "metadata": {
            "tags": null
          },
          "name": "stderr",
          "output_type": "stream",
          "text": [
            "\rFetching Classes:  63%|██████▎   | 46/73 [00:33<00:18,  1.44it/s]"
          ]
        },
        {
          "metadata": {
            "tags": null
          },
          "name": "stdout",
          "output_type": "stream",
          "text": [
            "💾 Saved class cache (3231 total so far)\n"
          ]
        },
        {
          "metadata": {
            "tags": null
          },
          "name": "stderr",
          "output_type": "stream",
          "text": [
            "\rFetching Classes:  64%|██████▍   | 47/73 [00:34<00:16,  1.56it/s]"
          ]
        },
        {
          "metadata": {
            "tags": null
          },
          "name": "stdout",
          "output_type": "stream",
          "text": [
            "💾 Saved class cache (3330 total so far)\n"
          ]
        },
        {
          "metadata": {
            "tags": null
          },
          "name": "stderr",
          "output_type": "stream",
          "text": [
            "\rFetching Classes:  66%|██████▌   | 48/73 [00:34<00:16,  1.54it/s]"
          ]
        },
        {
          "metadata": {
            "tags": null
          },
          "name": "stdout",
          "output_type": "stream",
          "text": [
            "💾 Saved class cache (3430 total so far)\n"
          ]
        },
        {
          "metadata": {
            "tags": null
          },
          "name": "stderr",
          "output_type": "stream",
          "text": [
            "\rFetching Classes:  67%|██████▋   | 49/73 [00:35<00:17,  1.38it/s]"
          ]
        },
        {
          "metadata": {
            "tags": null
          },
          "name": "stdout",
          "output_type": "stream",
          "text": [
            "💾 Saved class cache (3530 total so far)\n"
          ]
        },
        {
          "metadata": {
            "tags": null
          },
          "name": "stderr",
          "output_type": "stream",
          "text": [
            "\rFetching Classes:  68%|██████▊   | 50/73 [00:36<00:17,  1.29it/s]"
          ]
        },
        {
          "metadata": {
            "tags": null
          },
          "name": "stdout",
          "output_type": "stream",
          "text": [
            "💾 Saved class cache (3630 total so far)\n"
          ]
        },
        {
          "metadata": {
            "tags": null
          },
          "name": "stderr",
          "output_type": "stream",
          "text": [
            "\rFetching Classes:  70%|██████▉   | 51/73 [00:37<00:16,  1.33it/s]"
          ]
        },
        {
          "metadata": {
            "tags": null
          },
          "name": "stdout",
          "output_type": "stream",
          "text": [
            "💾 Saved class cache (3729 total so far)\n"
          ]
        },
        {
          "metadata": {
            "tags": null
          },
          "name": "stderr",
          "output_type": "stream",
          "text": [
            "\rFetching Classes:  71%|███████   | 52/73 [00:38<00:14,  1.42it/s]"
          ]
        },
        {
          "metadata": {
            "tags": null
          },
          "name": "stdout",
          "output_type": "stream",
          "text": [
            "💾 Saved class cache (3828 total so far)\n"
          ]
        },
        {
          "metadata": {
            "tags": null
          },
          "name": "stderr",
          "output_type": "stream",
          "text": [
            "\rFetching Classes:  73%|███████▎  | 53/73 [00:38<00:13,  1.54it/s]"
          ]
        },
        {
          "metadata": {
            "tags": null
          },
          "name": "stdout",
          "output_type": "stream",
          "text": [
            "💾 Saved class cache (3927 total so far)\n"
          ]
        },
        {
          "metadata": {
            "tags": null
          },
          "name": "stderr",
          "output_type": "stream",
          "text": [
            "\rFetching Classes:  74%|███████▍  | 54/73 [00:39<00:11,  1.60it/s]"
          ]
        },
        {
          "metadata": {
            "tags": null
          },
          "name": "stdout",
          "output_type": "stream",
          "text": [
            "💾 Saved class cache (4027 total so far)\n"
          ]
        },
        {
          "metadata": {
            "tags": null
          },
          "name": "stderr",
          "output_type": "stream",
          "text": [
            "\rFetching Classes:  75%|███████▌  | 55/73 [00:39<00:11,  1.55it/s]"
          ]
        },
        {
          "metadata": {
            "tags": null
          },
          "name": "stdout",
          "output_type": "stream",
          "text": [
            "💾 Saved class cache (4126 total so far)\n"
          ]
        },
        {
          "metadata": {
            "tags": null
          },
          "name": "stderr",
          "output_type": "stream",
          "text": [
            "\rFetching Classes:  77%|███████▋  | 56/73 [00:40<00:11,  1.48it/s]"
          ]
        },
        {
          "metadata": {
            "tags": null
          },
          "name": "stdout",
          "output_type": "stream",
          "text": [
            "💾 Saved class cache (4226 total so far)\n"
          ]
        },
        {
          "metadata": {
            "tags": null
          },
          "name": "stderr",
          "output_type": "stream",
          "text": [
            "\rFetching Classes:  78%|███████▊  | 57/73 [00:41<00:10,  1.55it/s]"
          ]
        },
        {
          "metadata": {
            "tags": null
          },
          "name": "stdout",
          "output_type": "stream",
          "text": [
            "💾 Saved class cache (4326 total so far)\n"
          ]
        },
        {
          "metadata": {
            "tags": null
          },
          "name": "stderr",
          "output_type": "stream",
          "text": [
            "\rFetching Classes:  79%|███████▉  | 58/73 [00:41<00:09,  1.57it/s]"
          ]
        },
        {
          "metadata": {
            "tags": null
          },
          "name": "stdout",
          "output_type": "stream",
          "text": [
            "💾 Saved class cache (4426 total so far)\n"
          ]
        },
        {
          "metadata": {
            "tags": null
          },
          "name": "stderr",
          "output_type": "stream",
          "text": [
            "\rFetching Classes:  81%|████████  | 59/73 [00:42<00:09,  1.51it/s]"
          ]
        },
        {
          "metadata": {
            "tags": null
          },
          "name": "stdout",
          "output_type": "stream",
          "text": [
            "💾 Saved class cache (4525 total so far)\n"
          ]
        },
        {
          "metadata": {
            "tags": null
          },
          "name": "stderr",
          "output_type": "stream",
          "text": [
            "\rFetching Classes:  82%|████████▏ | 60/73 [00:43<00:09,  1.43it/s]"
          ]
        },
        {
          "metadata": {
            "tags": null
          },
          "name": "stdout",
          "output_type": "stream",
          "text": [
            "💾 Saved class cache (4625 total so far)\n"
          ]
        },
        {
          "metadata": {
            "tags": null
          },
          "name": "stderr",
          "output_type": "stream",
          "text": [
            "\rFetching Classes:  84%|████████▎ | 61/73 [00:43<00:08,  1.48it/s]"
          ]
        },
        {
          "metadata": {
            "tags": null
          },
          "name": "stdout",
          "output_type": "stream",
          "text": [
            "💾 Saved class cache (4725 total so far)\n"
          ]
        },
        {
          "metadata": {
            "tags": null
          },
          "name": "stderr",
          "output_type": "stream",
          "text": [
            "\rFetching Classes:  85%|████████▍ | 62/73 [00:44<00:08,  1.27it/s]"
          ]
        },
        {
          "metadata": {
            "tags": null
          },
          "name": "stdout",
          "output_type": "stream",
          "text": [
            "💾 Saved class cache (4825 total so far)\n"
          ]
        },
        {
          "metadata": {
            "tags": null
          },
          "name": "stderr",
          "output_type": "stream",
          "text": [
            "\rFetching Classes:  86%|████████▋ | 63/73 [00:45<00:07,  1.33it/s]"
          ]
        },
        {
          "metadata": {
            "tags": null
          },
          "name": "stdout",
          "output_type": "stream",
          "text": [
            "💾 Saved class cache (4925 total so far)\n"
          ]
        },
        {
          "metadata": {
            "tags": null
          },
          "name": "stderr",
          "output_type": "stream",
          "text": [
            "\rFetching Classes:  88%|████████▊ | 64/73 [00:46<00:06,  1.44it/s]"
          ]
        },
        {
          "metadata": {
            "tags": null
          },
          "name": "stdout",
          "output_type": "stream",
          "text": [
            "💾 Saved class cache (5024 total so far)\n"
          ]
        },
        {
          "metadata": {
            "tags": null
          },
          "name": "stderr",
          "output_type": "stream",
          "text": [
            "\rFetching Classes:  89%|████████▉ | 65/73 [00:47<00:06,  1.24it/s]"
          ]
        },
        {
          "metadata": {
            "tags": null
          },
          "name": "stdout",
          "output_type": "stream",
          "text": [
            "💾 Saved class cache (5124 total so far)\n"
          ]
        },
        {
          "metadata": {
            "tags": null
          },
          "name": "stderr",
          "output_type": "stream",
          "text": [
            "\rFetching Classes:  90%|█████████ | 66/73 [00:47<00:05,  1.34it/s]"
          ]
        },
        {
          "metadata": {
            "tags": null
          },
          "name": "stdout",
          "output_type": "stream",
          "text": [
            "💾 Saved class cache (5224 total so far)\n"
          ]
        },
        {
          "metadata": {
            "tags": null
          },
          "name": "stderr",
          "output_type": "stream",
          "text": [
            "\rFetching Classes:  92%|█████████▏| 67/73 [00:48<00:04,  1.43it/s]"
          ]
        },
        {
          "metadata": {
            "tags": null
          },
          "name": "stdout",
          "output_type": "stream",
          "text": [
            "💾 Saved class cache (5324 total so far)\n"
          ]
        },
        {
          "metadata": {
            "tags": null
          },
          "name": "stderr",
          "output_type": "stream",
          "text": [
            "\rFetching Classes:  93%|█████████▎| 68/73 [00:49<00:03,  1.47it/s]"
          ]
        },
        {
          "metadata": {
            "tags": null
          },
          "name": "stdout",
          "output_type": "stream",
          "text": [
            "💾 Saved class cache (5424 total so far)\n"
          ]
        },
        {
          "metadata": {
            "tags": null
          },
          "name": "stderr",
          "output_type": "stream",
          "text": [
            "\rFetching Classes:  95%|█████████▍| 69/73 [00:49<00:02,  1.40it/s]"
          ]
        },
        {
          "metadata": {
            "tags": null
          },
          "name": "stdout",
          "output_type": "stream",
          "text": [
            "💾 Saved class cache (5522 total so far)\n"
          ]
        },
        {
          "metadata": {
            "tags": null
          },
          "name": "stderr",
          "output_type": "stream",
          "text": [
            "\rFetching Classes:  96%|█████████▌| 70/73 [00:50<00:02,  1.48it/s]"
          ]
        },
        {
          "metadata": {
            "tags": null
          },
          "name": "stdout",
          "output_type": "stream",
          "text": [
            "💾 Saved class cache (5622 total so far)\n"
          ]
        },
        {
          "metadata": {
            "tags": null
          },
          "name": "stderr",
          "output_type": "stream",
          "text": [
            "\rFetching Classes:  97%|█████████▋| 71/73 [00:51<00:01,  1.42it/s]"
          ]
        },
        {
          "metadata": {
            "tags": null
          },
          "name": "stdout",
          "output_type": "stream",
          "text": [
            "💾 Saved class cache (5720 total so far)\n"
          ]
        },
        {
          "metadata": {
            "tags": null
          },
          "name": "stderr",
          "output_type": "stream",
          "text": [
            "\rFetching Classes:  99%|█████████▊| 72/73 [00:52<00:00,  1.35it/s]"
          ]
        },
        {
          "metadata": {
            "tags": null
          },
          "name": "stdout",
          "output_type": "stream",
          "text": [
            "💾 Saved class cache (5820 total so far)\n"
          ]
        },
        {
          "metadata": {
            "tags": null
          },
          "name": "stderr",
          "output_type": "stream",
          "text": [
            "Fetching Classes: 100%|██████████| 73/73 [00:53<00:00,  1.37it/s]"
          ]
        },
        {
          "metadata": {
            "tags": null
          },
          "name": "stdout",
          "output_type": "stream",
          "text": [
            "💾 Saved class cache (5911 total so far)\n",
            "Final output saved as species_batch_001_with_class.csv\n"
          ]
        },
        {
          "metadata": {
            "tags": null
          },
          "name": "stderr",
          "output_type": "stream",
          "text": [
            "\n"
          ]
        },
        {
          "data": {
            "application/javascript": [
              "\n",
              "    async function download(id, filename, size) {\n",
              "      if (!google.colab.kernel.accessAllowed) {\n",
              "        return;\n",
              "      }\n",
              "      const div = document.createElement('div');\n",
              "      const label = document.createElement('label');\n",
              "      label.textContent = `Downloading \"${filename}\": `;\n",
              "      div.appendChild(label);\n",
              "      const progress = document.createElement('progress');\n",
              "      progress.max = size;\n",
              "      div.appendChild(progress);\n",
              "      document.body.appendChild(div);\n",
              "\n",
              "      const buffers = [];\n",
              "      let downloaded = 0;\n",
              "\n",
              "      const channel = await google.colab.kernel.comms.open(id);\n",
              "      // Send a message to notify the kernel that we're ready.\n",
              "      channel.send({})\n",
              "\n",
              "      for await (const message of channel.messages) {\n",
              "        // Send a message to notify the kernel that we're ready.\n",
              "        channel.send({})\n",
              "        if (message.buffers) {\n",
              "          for (const buffer of message.buffers) {\n",
              "            buffers.push(buffer);\n",
              "            downloaded += buffer.byteLength;\n",
              "            progress.value = downloaded;\n",
              "          }\n",
              "        }\n",
              "      }\n",
              "      const blob = new Blob(buffers, {type: 'application/binary'});\n",
              "      const a = document.createElement('a');\n",
              "      a.href = window.URL.createObjectURL(blob);\n",
              "      a.download = filename;\n",
              "      div.appendChild(a);\n",
              "      a.click();\n",
              "      div.remove();\n",
              "    }\n",
              "  "
            ],
            "text/plain": [
              "<IPython.core.display.Javascript object>"
            ]
          },
          "metadata": {},
          "output_type": "display_data"
        },
        {
          "data": {
            "application/javascript": [
              "download(\"download_72b1768d-3b30-4db8-9135-67fb17723640\", \"species_batch_001_with_class.csv\", 311337)"
            ],
            "text/plain": [
              "<IPython.core.display.Javascript object>"
            ]
          },
          "metadata": {},
          "output_type": "display_data"
        }
      ]
    },
    {
      "cell_type": "code",
      "source": [
        "# Rebuild tax_class_dict DataFrame\n",
        "class_df = pd.read_csv(class_cache_file)\n",
        "\n",
        "# Merge using a full DataFrame join (safer than map)\n",
        "final_df = df.merge(\n",
        "    class_df,\n",
        "    how=\"left\",\n",
        "    on=\"GENUS_SPECIES\"\n",
        ")\n",
        "\n",
        "output_filename = batch_filename.replace(\".csv\", \"_with_class.csv\")\n",
        "final_df.to_csv(output_filename, index=False)\n",
        "print(f\"Final output saved as {output_filename}\")"
      ],
      "metadata": {
        "id": "eBpvX-A5yMQt",
        "outputId": "e2c44cf2-b3d8-4582-f918-824abf0d3bdd",
        "colab": {
          "base_uri": "https://localhost:8080/"
        }
      },
      "id": "eBpvX-A5yMQt",
      "execution_count": 56,
      "outputs": [
        {
          "output_type": "stream",
          "name": "stdout",
          "text": [
            "✅ Final output saved as species_batch_001_with_class.csv\n"
          ]
        }
      ]
    },
    {
      "cell_type": "code",
      "source": [
        "pd.DataFrame.from_dict(tax_class_dict, orient=\"index\", columns=[\"taxonomic_class\"])\\\n",
        "    .reset_index().rename(columns={\"index\": \"GENUS_SPECIES\"})\\\n",
        "    .to_csv(class_cache_file, index=False)\n",
        "\n",
        "# Merge final results\n",
        "df[\"taxonomic_class\"] = df[\"GENUS_SPECIES\"].map(tax_class_dict)\n",
        "output_path = \"species_with_class_batched.csv\"\n",
        "df.to_csv(output_path, index=False)\n",
        "output_path"
      ],
      "metadata": {
        "id": "1uDgWxfaf66M",
        "colab": {
          "base_uri": "https://localhost:8080/",
          "height": 35
        },
        "outputId": "4ec896d1-856c-4398-e10f-95231ad81ca8"
      },
      "id": "1uDgWxfaf66M",
      "execution_count": 50,
      "outputs": [
        {
          "output_type": "execute_result",
          "data": {
            "text/plain": [
              "'species_with_class_batched.csv'"
            ],
            "application/vnd.google.colaboratory.intrinsic+json": {
              "type": "string"
            }
          },
          "metadata": {},
          "execution_count": 50
        }
      ]
    },
    {
      "cell_type": "code",
      "source": [
        "df_check = pd.read_csv(\"species_batch_001_with_class.csv\")\n",
        "print(df_check.head())"
      ],
      "metadata": {
        "id": "GzCVtmDkudWM",
        "outputId": "aaad27af-6829-4070-a680-87e86f9ed8cd",
        "colab": {
          "base_uri": "https://localhost:8080/"
        }
      },
      "id": "GzCVtmDkudWM",
      "execution_count": 44,
      "outputs": [
        {
          "output_type": "stream",
          "name": "stdout",
          "text": [
            "   Unnamed: 0    GENUS_SPECIES taxonomic_class\n",
            "0           1      Acer rubrum             NaN\n",
            "1           2   Acer saccharum             NaN\n",
            "2           3    Acer spicatum             NaN\n",
            "3           4  Corylus cornuta             NaN\n",
            "4           5  Populus pinnata             NaN\n"
          ]
        }
      ]
    },
    {
      "cell_type": "code",
      "source": [
        "# Combine all results\n",
        "# Match all output files\n",
        "batch_files = sorted(glob.glob(\"species_batch_*_with_class.csv\"))\n",
        "\n",
        "# Combine into one DataFrame\n",
        "combined_df = pd.concat([pd.read_csv(f) for f in batch_files], ignore_index=True)\n",
        "\n",
        "# Save the full result\n",
        "combined_df.to_csv(\"all_species_with_class.csv\", index=False)"
      ],
      "metadata": {
        "id": "UejvIlO9gqTP"
      },
      "id": "UejvIlO9gqTP",
      "execution_count": 43,
      "outputs": []
    },
    {
      "cell_type": "code",
      "source": [
        "#TESTING CODE"
      ],
      "metadata": {
        "id": "UCsbnc49z5OV"
      },
      "id": "UCsbnc49z5OV",
      "execution_count": null,
      "outputs": []
    }
  ],
  "metadata": {
    "language_info": {
      "name": "python"
    },
    "colab": {
      "provenance": []
    },
    "kernelspec": {
      "name": "python3",
      "display_name": "Python 3"
    }
  },
  "nbformat": 4,
  "nbformat_minor": 5
}